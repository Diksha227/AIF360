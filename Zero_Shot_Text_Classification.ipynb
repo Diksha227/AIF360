{
  "nbformat": 4,
  "nbformat_minor": 0,
  "metadata": {
    "colab": {
      "name": "Zero-Shot Text Classification.ipynb",
      "provenance": [],
      "collapsed_sections": [],
      "include_colab_link": true
    },
    "kernelspec": {
      "name": "python3",
      "display_name": "Python 3"
    },
    "accelerator": "GPU",
    "widgets": {
      "application/vnd.jupyter.widget-state+json": {
        "1803397f267e4de0b180bc04bc1599eb": {
          "model_module": "@jupyter-widgets/controls",
          "model_name": "HBoxModel",
          "state": {
            "_view_name": "HBoxView",
            "_dom_classes": [],
            "_model_name": "HBoxModel",
            "_view_module": "@jupyter-widgets/controls",
            "_model_module_version": "1.5.0",
            "_view_count": null,
            "_view_module_version": "1.5.0",
            "box_style": "",
            "layout": "IPY_MODEL_feda2e7736fe4f0b91747bcbf149092d",
            "_model_module": "@jupyter-widgets/controls",
            "children": [
              "IPY_MODEL_bd6e9bec34b94c539263662f614018eb",
              "IPY_MODEL_db713dfc62c04a46b32d5ac28d052169"
            ]
          }
        },
        "feda2e7736fe4f0b91747bcbf149092d": {
          "model_module": "@jupyter-widgets/base",
          "model_name": "LayoutModel",
          "state": {
            "_view_name": "LayoutView",
            "grid_template_rows": null,
            "right": null,
            "justify_content": null,
            "_view_module": "@jupyter-widgets/base",
            "overflow": null,
            "_model_module_version": "1.2.0",
            "_view_count": null,
            "flex_flow": null,
            "width": null,
            "min_width": null,
            "border": null,
            "align_items": null,
            "bottom": null,
            "_model_module": "@jupyter-widgets/base",
            "top": null,
            "grid_column": null,
            "overflow_y": null,
            "overflow_x": null,
            "grid_auto_flow": null,
            "grid_area": null,
            "grid_template_columns": null,
            "flex": null,
            "_model_name": "LayoutModel",
            "justify_items": null,
            "grid_row": null,
            "max_height": null,
            "align_content": null,
            "visibility": null,
            "align_self": null,
            "height": null,
            "min_height": null,
            "padding": null,
            "grid_auto_rows": null,
            "grid_gap": null,
            "max_width": null,
            "order": null,
            "_view_module_version": "1.2.0",
            "grid_template_areas": null,
            "object_position": null,
            "object_fit": null,
            "grid_auto_columns": null,
            "margin": null,
            "display": null,
            "left": null
          }
        },
        "bd6e9bec34b94c539263662f614018eb": {
          "model_module": "@jupyter-widgets/controls",
          "model_name": "FloatProgressModel",
          "state": {
            "_view_name": "ProgressView",
            "style": "IPY_MODEL_21f787a57ff049deb39f95ed3700134d",
            "_dom_classes": [],
            "description": "100%",
            "_model_name": "FloatProgressModel",
            "bar_style": "success",
            "max": 1563,
            "_view_module": "@jupyter-widgets/controls",
            "_model_module_version": "1.5.0",
            "value": 1563,
            "_view_count": null,
            "_view_module_version": "1.5.0",
            "orientation": "horizontal",
            "min": 0,
            "description_tooltip": null,
            "_model_module": "@jupyter-widgets/controls",
            "layout": "IPY_MODEL_2c7571fb1711479cb692e3dd219f2612"
          }
        },
        "db713dfc62c04a46b32d5ac28d052169": {
          "model_module": "@jupyter-widgets/controls",
          "model_name": "HTMLModel",
          "state": {
            "_view_name": "HTMLView",
            "style": "IPY_MODEL_826607c5913b4ae2a487d22987024a5e",
            "_dom_classes": [],
            "description": "",
            "_model_name": "HTMLModel",
            "placeholder": "​",
            "_view_module": "@jupyter-widgets/controls",
            "_model_module_version": "1.5.0",
            "value": " 1563/1563 [1:42:18&lt;00:00,  3.93s/it]",
            "_view_count": null,
            "_view_module_version": "1.5.0",
            "description_tooltip": null,
            "_model_module": "@jupyter-widgets/controls",
            "layout": "IPY_MODEL_209d05320ec647c29807193fb5646c5a"
          }
        },
        "21f787a57ff049deb39f95ed3700134d": {
          "model_module": "@jupyter-widgets/controls",
          "model_name": "ProgressStyleModel",
          "state": {
            "_view_name": "StyleView",
            "_model_name": "ProgressStyleModel",
            "description_width": "initial",
            "_view_module": "@jupyter-widgets/base",
            "_model_module_version": "1.5.0",
            "_view_count": null,
            "_view_module_version": "1.2.0",
            "bar_color": null,
            "_model_module": "@jupyter-widgets/controls"
          }
        },
        "2c7571fb1711479cb692e3dd219f2612": {
          "model_module": "@jupyter-widgets/base",
          "model_name": "LayoutModel",
          "state": {
            "_view_name": "LayoutView",
            "grid_template_rows": null,
            "right": null,
            "justify_content": null,
            "_view_module": "@jupyter-widgets/base",
            "overflow": null,
            "_model_module_version": "1.2.0",
            "_view_count": null,
            "flex_flow": null,
            "width": null,
            "min_width": null,
            "border": null,
            "align_items": null,
            "bottom": null,
            "_model_module": "@jupyter-widgets/base",
            "top": null,
            "grid_column": null,
            "overflow_y": null,
            "overflow_x": null,
            "grid_auto_flow": null,
            "grid_area": null,
            "grid_template_columns": null,
            "flex": null,
            "_model_name": "LayoutModel",
            "justify_items": null,
            "grid_row": null,
            "max_height": null,
            "align_content": null,
            "visibility": null,
            "align_self": null,
            "height": null,
            "min_height": null,
            "padding": null,
            "grid_auto_rows": null,
            "grid_gap": null,
            "max_width": null,
            "order": null,
            "_view_module_version": "1.2.0",
            "grid_template_areas": null,
            "object_position": null,
            "object_fit": null,
            "grid_auto_columns": null,
            "margin": null,
            "display": null,
            "left": null
          }
        },
        "826607c5913b4ae2a487d22987024a5e": {
          "model_module": "@jupyter-widgets/controls",
          "model_name": "DescriptionStyleModel",
          "state": {
            "_view_name": "StyleView",
            "_model_name": "DescriptionStyleModel",
            "description_width": "",
            "_view_module": "@jupyter-widgets/base",
            "_model_module_version": "1.5.0",
            "_view_count": null,
            "_view_module_version": "1.2.0",
            "_model_module": "@jupyter-widgets/controls"
          }
        },
        "209d05320ec647c29807193fb5646c5a": {
          "model_module": "@jupyter-widgets/base",
          "model_name": "LayoutModel",
          "state": {
            "_view_name": "LayoutView",
            "grid_template_rows": null,
            "right": null,
            "justify_content": null,
            "_view_module": "@jupyter-widgets/base",
            "overflow": null,
            "_model_module_version": "1.2.0",
            "_view_count": null,
            "flex_flow": null,
            "width": null,
            "min_width": null,
            "border": null,
            "align_items": null,
            "bottom": null,
            "_model_module": "@jupyter-widgets/base",
            "top": null,
            "grid_column": null,
            "overflow_y": null,
            "overflow_x": null,
            "grid_auto_flow": null,
            "grid_area": null,
            "grid_template_columns": null,
            "flex": null,
            "_model_name": "LayoutModel",
            "justify_items": null,
            "grid_row": null,
            "max_height": null,
            "align_content": null,
            "visibility": null,
            "align_self": null,
            "height": null,
            "min_height": null,
            "padding": null,
            "grid_auto_rows": null,
            "grid_gap": null,
            "max_width": null,
            "order": null,
            "_view_module_version": "1.2.0",
            "grid_template_areas": null,
            "object_position": null,
            "object_fit": null,
            "grid_auto_columns": null,
            "margin": null,
            "display": null,
            "left": null
          }
        },
        "5c2414be498c4f0e901fcf7c0d6a1bfe": {
          "model_module": "@jupyter-widgets/controls",
          "model_name": "HBoxModel",
          "state": {
            "_view_name": "HBoxView",
            "_dom_classes": [],
            "_model_name": "HBoxModel",
            "_view_module": "@jupyter-widgets/controls",
            "_model_module_version": "1.5.0",
            "_view_count": null,
            "_view_module_version": "1.5.0",
            "box_style": "",
            "layout": "IPY_MODEL_80d37a9b601c49749170e17b701d7629",
            "_model_module": "@jupyter-widgets/controls",
            "children": [
              "IPY_MODEL_f873197308434ea99d84ce42f48ae508",
              "IPY_MODEL_e1c7c9e586b4458084d0ba31a9e3715d"
            ]
          }
        },
        "80d37a9b601c49749170e17b701d7629": {
          "model_module": "@jupyter-widgets/base",
          "model_name": "LayoutModel",
          "state": {
            "_view_name": "LayoutView",
            "grid_template_rows": null,
            "right": null,
            "justify_content": null,
            "_view_module": "@jupyter-widgets/base",
            "overflow": null,
            "_model_module_version": "1.2.0",
            "_view_count": null,
            "flex_flow": null,
            "width": null,
            "min_width": null,
            "border": null,
            "align_items": null,
            "bottom": null,
            "_model_module": "@jupyter-widgets/base",
            "top": null,
            "grid_column": null,
            "overflow_y": null,
            "overflow_x": null,
            "grid_auto_flow": null,
            "grid_area": null,
            "grid_template_columns": null,
            "flex": null,
            "_model_name": "LayoutModel",
            "justify_items": null,
            "grid_row": null,
            "max_height": null,
            "align_content": null,
            "visibility": null,
            "align_self": null,
            "height": null,
            "min_height": null,
            "padding": null,
            "grid_auto_rows": null,
            "grid_gap": null,
            "max_width": null,
            "order": null,
            "_view_module_version": "1.2.0",
            "grid_template_areas": null,
            "object_position": null,
            "object_fit": null,
            "grid_auto_columns": null,
            "margin": null,
            "display": null,
            "left": null
          }
        },
        "f873197308434ea99d84ce42f48ae508": {
          "model_module": "@jupyter-widgets/controls",
          "model_name": "FloatProgressModel",
          "state": {
            "_view_name": "ProgressView",
            "style": "IPY_MODEL_652c7ced84de46f08c1540effe47f7ce",
            "_dom_classes": [],
            "description": "100%",
            "_model_name": "FloatProgressModel",
            "bar_style": "success",
            "max": 475,
            "_view_module": "@jupyter-widgets/controls",
            "_model_module_version": "1.5.0",
            "value": 475,
            "_view_count": null,
            "_view_module_version": "1.5.0",
            "orientation": "horizontal",
            "min": 0,
            "description_tooltip": null,
            "_model_module": "@jupyter-widgets/controls",
            "layout": "IPY_MODEL_a5b6aedd10c7474f9d03f3622bf2c43a"
          }
        },
        "e1c7c9e586b4458084d0ba31a9e3715d": {
          "model_module": "@jupyter-widgets/controls",
          "model_name": "HTMLModel",
          "state": {
            "_view_name": "HTMLView",
            "style": "IPY_MODEL_e2f2a36eec924205bfcae980628f5307",
            "_dom_classes": [],
            "description": "",
            "_model_name": "HTMLModel",
            "placeholder": "​",
            "_view_module": "@jupyter-widgets/controls",
            "_model_module_version": "1.5.0",
            "value": " 475/475 [26:35&lt;00:00,  3.36s/it]",
            "_view_count": null,
            "_view_module_version": "1.5.0",
            "description_tooltip": null,
            "_model_module": "@jupyter-widgets/controls",
            "layout": "IPY_MODEL_896cbab6c6934033ac59d1c25cd57e2a"
          }
        },
        "652c7ced84de46f08c1540effe47f7ce": {
          "model_module": "@jupyter-widgets/controls",
          "model_name": "ProgressStyleModel",
          "state": {
            "_view_name": "StyleView",
            "_model_name": "ProgressStyleModel",
            "description_width": "initial",
            "_view_module": "@jupyter-widgets/base",
            "_model_module_version": "1.5.0",
            "_view_count": null,
            "_view_module_version": "1.2.0",
            "bar_color": null,
            "_model_module": "@jupyter-widgets/controls"
          }
        },
        "a5b6aedd10c7474f9d03f3622bf2c43a": {
          "model_module": "@jupyter-widgets/base",
          "model_name": "LayoutModel",
          "state": {
            "_view_name": "LayoutView",
            "grid_template_rows": null,
            "right": null,
            "justify_content": null,
            "_view_module": "@jupyter-widgets/base",
            "overflow": null,
            "_model_module_version": "1.2.0",
            "_view_count": null,
            "flex_flow": null,
            "width": null,
            "min_width": null,
            "border": null,
            "align_items": null,
            "bottom": null,
            "_model_module": "@jupyter-widgets/base",
            "top": null,
            "grid_column": null,
            "overflow_y": null,
            "overflow_x": null,
            "grid_auto_flow": null,
            "grid_area": null,
            "grid_template_columns": null,
            "flex": null,
            "_model_name": "LayoutModel",
            "justify_items": null,
            "grid_row": null,
            "max_height": null,
            "align_content": null,
            "visibility": null,
            "align_self": null,
            "height": null,
            "min_height": null,
            "padding": null,
            "grid_auto_rows": null,
            "grid_gap": null,
            "max_width": null,
            "order": null,
            "_view_module_version": "1.2.0",
            "grid_template_areas": null,
            "object_position": null,
            "object_fit": null,
            "grid_auto_columns": null,
            "margin": null,
            "display": null,
            "left": null
          }
        },
        "e2f2a36eec924205bfcae980628f5307": {
          "model_module": "@jupyter-widgets/controls",
          "model_name": "DescriptionStyleModel",
          "state": {
            "_view_name": "StyleView",
            "_model_name": "DescriptionStyleModel",
            "description_width": "",
            "_view_module": "@jupyter-widgets/base",
            "_model_module_version": "1.5.0",
            "_view_count": null,
            "_view_module_version": "1.2.0",
            "_model_module": "@jupyter-widgets/controls"
          }
        },
        "896cbab6c6934033ac59d1c25cd57e2a": {
          "model_module": "@jupyter-widgets/base",
          "model_name": "LayoutModel",
          "state": {
            "_view_name": "LayoutView",
            "grid_template_rows": null,
            "right": null,
            "justify_content": null,
            "_view_module": "@jupyter-widgets/base",
            "overflow": null,
            "_model_module_version": "1.2.0",
            "_view_count": null,
            "flex_flow": null,
            "width": null,
            "min_width": null,
            "border": null,
            "align_items": null,
            "bottom": null,
            "_model_module": "@jupyter-widgets/base",
            "top": null,
            "grid_column": null,
            "overflow_y": null,
            "overflow_x": null,
            "grid_auto_flow": null,
            "grid_area": null,
            "grid_template_columns": null,
            "flex": null,
            "_model_name": "LayoutModel",
            "justify_items": null,
            "grid_row": null,
            "max_height": null,
            "align_content": null,
            "visibility": null,
            "align_self": null,
            "height": null,
            "min_height": null,
            "padding": null,
            "grid_auto_rows": null,
            "grid_gap": null,
            "max_width": null,
            "order": null,
            "_view_module_version": "1.2.0",
            "grid_template_areas": null,
            "object_position": null,
            "object_fit": null,
            "grid_auto_columns": null,
            "margin": null,
            "display": null,
            "left": null
          }
        },
        "ac4ea117153642c2b3d4d7d6fd4eb8e9": {
          "model_module": "@jupyter-widgets/controls",
          "model_name": "HBoxModel",
          "state": {
            "_view_name": "HBoxView",
            "_dom_classes": [],
            "_model_name": "HBoxModel",
            "_view_module": "@jupyter-widgets/controls",
            "_model_module_version": "1.5.0",
            "_view_count": null,
            "_view_module_version": "1.5.0",
            "box_style": "",
            "layout": "IPY_MODEL_0373868ddccd4274ab7903afd08e4952",
            "_model_module": "@jupyter-widgets/controls",
            "children": [
              "IPY_MODEL_2185517d1ce64020abf22caf6c0cada4",
              "IPY_MODEL_5f6e10e3edba41799e7f0478975eee32"
            ]
          }
        },
        "0373868ddccd4274ab7903afd08e4952": {
          "model_module": "@jupyter-widgets/base",
          "model_name": "LayoutModel",
          "state": {
            "_view_name": "LayoutView",
            "grid_template_rows": null,
            "right": null,
            "justify_content": null,
            "_view_module": "@jupyter-widgets/base",
            "overflow": null,
            "_model_module_version": "1.2.0",
            "_view_count": null,
            "flex_flow": null,
            "width": null,
            "min_width": null,
            "border": null,
            "align_items": null,
            "bottom": null,
            "_model_module": "@jupyter-widgets/base",
            "top": null,
            "grid_column": null,
            "overflow_y": null,
            "overflow_x": null,
            "grid_auto_flow": null,
            "grid_area": null,
            "grid_template_columns": null,
            "flex": null,
            "_model_name": "LayoutModel",
            "justify_items": null,
            "grid_row": null,
            "max_height": null,
            "align_content": null,
            "visibility": null,
            "align_self": null,
            "height": null,
            "min_height": null,
            "padding": null,
            "grid_auto_rows": null,
            "grid_gap": null,
            "max_width": null,
            "order": null,
            "_view_module_version": "1.2.0",
            "grid_template_areas": null,
            "object_position": null,
            "object_fit": null,
            "grid_auto_columns": null,
            "margin": null,
            "display": null,
            "left": null
          }
        },
        "2185517d1ce64020abf22caf6c0cada4": {
          "model_module": "@jupyter-widgets/controls",
          "model_name": "FloatProgressModel",
          "state": {
            "_view_name": "ProgressView",
            "style": "IPY_MODEL_e161af184fd94e5480a15435a5c649f8",
            "_dom_classes": [],
            "description": "100%",
            "_model_name": "FloatProgressModel",
            "bar_style": "success",
            "max": 125,
            "_view_module": "@jupyter-widgets/controls",
            "_model_module_version": "1.5.0",
            "value": 125,
            "_view_count": null,
            "_view_module_version": "1.5.0",
            "orientation": "horizontal",
            "min": 0,
            "description_tooltip": null,
            "_model_module": "@jupyter-widgets/controls",
            "layout": "IPY_MODEL_ef2aa61006184fd781a29020d1cd61f3"
          }
        },
        "5f6e10e3edba41799e7f0478975eee32": {
          "model_module": "@jupyter-widgets/controls",
          "model_name": "HTMLModel",
          "state": {
            "_view_name": "HTMLView",
            "style": "IPY_MODEL_82d21641b17845b09898569d777eedb2",
            "_dom_classes": [],
            "description": "",
            "_model_name": "HTMLModel",
            "placeholder": "​",
            "_view_module": "@jupyter-widgets/controls",
            "_model_module_version": "1.5.0",
            "value": " 125/125 [01:13&lt;00:00,  1.70it/s]",
            "_view_count": null,
            "_view_module_version": "1.5.0",
            "description_tooltip": null,
            "_model_module": "@jupyter-widgets/controls",
            "layout": "IPY_MODEL_292b10487067415db2484f907a1b0e7b"
          }
        },
        "e161af184fd94e5480a15435a5c649f8": {
          "model_module": "@jupyter-widgets/controls",
          "model_name": "ProgressStyleModel",
          "state": {
            "_view_name": "StyleView",
            "_model_name": "ProgressStyleModel",
            "description_width": "initial",
            "_view_module": "@jupyter-widgets/base",
            "_model_module_version": "1.5.0",
            "_view_count": null,
            "_view_module_version": "1.2.0",
            "bar_color": null,
            "_model_module": "@jupyter-widgets/controls"
          }
        },
        "ef2aa61006184fd781a29020d1cd61f3": {
          "model_module": "@jupyter-widgets/base",
          "model_name": "LayoutModel",
          "state": {
            "_view_name": "LayoutView",
            "grid_template_rows": null,
            "right": null,
            "justify_content": null,
            "_view_module": "@jupyter-widgets/base",
            "overflow": null,
            "_model_module_version": "1.2.0",
            "_view_count": null,
            "flex_flow": null,
            "width": null,
            "min_width": null,
            "border": null,
            "align_items": null,
            "bottom": null,
            "_model_module": "@jupyter-widgets/base",
            "top": null,
            "grid_column": null,
            "overflow_y": null,
            "overflow_x": null,
            "grid_auto_flow": null,
            "grid_area": null,
            "grid_template_columns": null,
            "flex": null,
            "_model_name": "LayoutModel",
            "justify_items": null,
            "grid_row": null,
            "max_height": null,
            "align_content": null,
            "visibility": null,
            "align_self": null,
            "height": null,
            "min_height": null,
            "padding": null,
            "grid_auto_rows": null,
            "grid_gap": null,
            "max_width": null,
            "order": null,
            "_view_module_version": "1.2.0",
            "grid_template_areas": null,
            "object_position": null,
            "object_fit": null,
            "grid_auto_columns": null,
            "margin": null,
            "display": null,
            "left": null
          }
        },
        "82d21641b17845b09898569d777eedb2": {
          "model_module": "@jupyter-widgets/controls",
          "model_name": "DescriptionStyleModel",
          "state": {
            "_view_name": "StyleView",
            "_model_name": "DescriptionStyleModel",
            "description_width": "",
            "_view_module": "@jupyter-widgets/base",
            "_model_module_version": "1.5.0",
            "_view_count": null,
            "_view_module_version": "1.2.0",
            "_model_module": "@jupyter-widgets/controls"
          }
        },
        "292b10487067415db2484f907a1b0e7b": {
          "model_module": "@jupyter-widgets/base",
          "model_name": "LayoutModel",
          "state": {
            "_view_name": "LayoutView",
            "grid_template_rows": null,
            "right": null,
            "justify_content": null,
            "_view_module": "@jupyter-widgets/base",
            "overflow": null,
            "_model_module_version": "1.2.0",
            "_view_count": null,
            "flex_flow": null,
            "width": null,
            "min_width": null,
            "border": null,
            "align_items": null,
            "bottom": null,
            "_model_module": "@jupyter-widgets/base",
            "top": null,
            "grid_column": null,
            "overflow_y": null,
            "overflow_x": null,
            "grid_auto_flow": null,
            "grid_area": null,
            "grid_template_columns": null,
            "flex": null,
            "_model_name": "LayoutModel",
            "justify_items": null,
            "grid_row": null,
            "max_height": null,
            "align_content": null,
            "visibility": null,
            "align_self": null,
            "height": null,
            "min_height": null,
            "padding": null,
            "grid_auto_rows": null,
            "grid_gap": null,
            "max_width": null,
            "order": null,
            "_view_module_version": "1.2.0",
            "grid_template_areas": null,
            "object_position": null,
            "object_fit": null,
            "grid_auto_columns": null,
            "margin": null,
            "display": null,
            "left": null
          }
        }
      }
    }
  },
  "cells": [
    {
      "cell_type": "markdown",
      "metadata": {
        "id": "view-in-github",
        "colab_type": "text"
      },
      "source": [
        "<a href=\"https://colab.research.google.com/github/Diksha227/AIF360/blob/master/Zero_Shot_Text_Classification.ipynb\" target=\"_parent\"><img src=\"https://colab.research.google.com/assets/colab-badge.svg\" alt=\"Open In Colab\"/></a>"
      ]
    },
    {
      "cell_type": "markdown",
      "metadata": {
        "id": "Uy5z0bze8mVz"
      },
      "source": [
        "# Zero-Shot Text Classification\n",
        "\n",
        "In this notebook, we will implement zero-shot classification from [transformers](https://github.com/huggingface/transformers) library and evaluate by [datasets](https://github.com/huggingface/datasets) library."
      ]
    },
    {
      "cell_type": "code",
      "metadata": {
        "id": "LSu4v8__8Ka4"
      },
      "source": [
        "!pip install transformers datasets"
      ],
      "execution_count": null,
      "outputs": []
    },
    {
      "cell_type": "code",
      "metadata": {
        "id": "BARjVeYa8TH9"
      },
      "source": [
        "from transformers import pipeline\n",
        "from tqdm.notebook import tqdm"
      ],
      "execution_count": null,
      "outputs": []
    },
    {
      "cell_type": "code",
      "metadata": {
        "id": "1P3kBhUp9Gzy",
        "colab": {
          "base_uri": "https://localhost:8080/",
          "height": 89
        },
        "outputId": "6b96d191-365d-4dff-f9a6-0d8d41a752e1"
      },
      "source": [
        "classifier = pipeline(\"zero-shot-classification\", device=0)#GPU"
      ],
      "execution_count": null,
      "outputs": [
        {
          "output_type": "stream",
          "text": [
            "Some weights of the model checkpoint at facebook/bart-large-mnli were not used when initializing BartForSequenceClassification: ['model.encoder.version', 'model.decoder.version']\n",
            "- This IS expected if you are initializing BartForSequenceClassification from the checkpoint of a model trained on another task or with another architecture (e.g. initializing a BertForSequenceClassification model from a BertForPretraining model).\n",
            "- This IS NOT expected if you are initializing BartForSequenceClassification from the checkpoint of a model that you expect to be exactly identical (initializing a BertForSequenceClassification model from a BertForSequenceClassification model).\n"
          ],
          "name": "stderr"
        }
      ]
    },
    {
      "cell_type": "markdown",
      "metadata": {
        "id": "cfbjikWs9dBr"
      },
      "source": [
        "## Examples"
      ]
    },
    {
      "cell_type": "code",
      "metadata": {
        "id": "qag32ySI9ZYz"
      },
      "source": [
        "candidate_labels = [\"positive\", \"negative\"]"
      ],
      "execution_count": null,
      "outputs": []
    },
    {
      "cell_type": "code",
      "metadata": {
        "id": "lTgcVGHe9h1F",
        "colab": {
          "base_uri": "https://localhost:8080/",
          "height": 69
        },
        "outputId": "57db886b-e813-4726-a74c-1d048586b086"
      },
      "source": [
        "text1 = \"This movie is terrible but it has some good effects.\"\n",
        "classifier(text1, candidate_labels)\n",
        "#negative"
      ],
      "execution_count": null,
      "outputs": [
        {
          "output_type": "execute_result",
          "data": {
            "text/plain": [
              "{'labels': ['negative', 'positive'],\n",
              " 'scores': [0.993061900138855, 0.0069380709901452065],\n",
              " 'sequence': 'This movie is terrible but it has some good effects.'}"
            ]
          },
          "metadata": {
            "tags": []
          },
          "execution_count": 51
        }
      ]
    },
    {
      "cell_type": "code",
      "metadata": {
        "id": "NELekNYz-EDY",
        "colab": {
          "base_uri": "https://localhost:8080/",
          "height": 69
        },
        "outputId": "9089196f-d3dd-417d-b301-cc2d41f57b8a"
      },
      "source": [
        "text2 = \"This movie will always be a Broadway and Movie classic, as long as there are still people who sing, dance, and act.\"\n",
        "classifier(text2, candidate_labels)\n",
        "#positive"
      ],
      "execution_count": null,
      "outputs": [
        {
          "output_type": "execute_result",
          "data": {
            "text/plain": [
              "{'labels': ['positive', 'negative'],\n",
              " 'scores': [0.9604027271270752, 0.03959730640053749],\n",
              " 'sequence': 'This movie will always be a Broadway and Movie classic, as long as there are still people who sing, dance, and act.'}"
            ]
          },
          "metadata": {
            "tags": []
          },
          "execution_count": 52
        }
      ]
    },
    {
      "cell_type": "code",
      "metadata": {
        "id": "xdKVOS7amQlF",
        "colab": {
          "base_uri": "https://localhost:8080/",
          "height": 121
        },
        "outputId": "231a0c2b-c70b-4e78-f015-1035a02b1ebb"
      },
      "source": [
        "candidate_labels = [\"world\", \"sports\", \"business\", \"sci/tech\"]\n",
        "\n",
        "text1 = \"Veteran inventor in market float Trevor Baylis, the veteran inventor famous for creating the Freeplay clockwork radio, is planning to float his company on the stock market.\"\n",
        "classifier(text1, candidate_labels)\n",
        "#business"
      ],
      "execution_count": null,
      "outputs": [
        {
          "output_type": "execute_result",
          "data": {
            "text/plain": [
              "{'labels': ['business', 'science and tech', 'world', 'sports'],\n",
              " 'scores': [0.6816723942756653,\n",
              "  0.18734510242938995,\n",
              "  0.12677989900112152,\n",
              "  0.004202586133033037],\n",
              " 'sequence': 'Veteran inventor in market float Trevor Baylis, the veteran inventor famous for creating the Freeplay clockwork radio, is planning to float his company on the stock market.'}"
            ]
          },
          "metadata": {
            "tags": []
          },
          "execution_count": 46
        }
      ]
    },
    {
      "cell_type": "code",
      "metadata": {
        "id": "Wb56I_dymQYm",
        "colab": {
          "base_uri": "https://localhost:8080/",
          "height": 121
        },
        "outputId": "0c147b42-b98e-4248-bf9a-a76d6ffb0e22"
      },
      "source": [
        "text2 = \"This Date in Baseball - Aug. 17 (AP) AP - 1904  #151; Jesse Tannehill of the Boston Red Sox pitched a no-hitter, beating the Chicago White Sox 6-0.\"\n",
        "classifier(text2, candidate_labels)\n",
        "#sports"
      ],
      "execution_count": null,
      "outputs": [
        {
          "output_type": "execute_result",
          "data": {
            "text/plain": [
              "{'labels': ['sports', 'world', 'business', 'science and tech'],\n",
              " 'scores': [0.9873999953269958,\n",
              "  0.010431364178657532,\n",
              "  0.0015704811085015535,\n",
              "  0.0005981583963148296],\n",
              " 'sequence': 'This Date in Baseball - Aug. 17 (AP) AP - 1904  #151; Jesse Tannehill of the Boston Red Sox pitched a no-hitter, beating the Chicago White Sox 6-0.'}"
            ]
          },
          "metadata": {
            "tags": []
          },
          "execution_count": 47
        }
      ]
    },
    {
      "cell_type": "code",
      "metadata": {
        "id": "Gc2yFZ38yBtT",
        "colab": {
          "base_uri": "https://localhost:8080/",
          "height": 155
        },
        "outputId": "aace4f06-cacc-401d-cf96-177ec7576fff"
      },
      "source": [
        "candidate_labels = [\"anger\", \"fear\", \"joy\", \"love\", \"sadness\", \"surprise\"]\n",
        "text = \"i didnt feel humiliated\"\n",
        "classifier(text, candidate_labels)\n",
        "#sadness"
      ],
      "execution_count": null,
      "outputs": [
        {
          "output_type": "execute_result",
          "data": {
            "text/plain": [
              "{'labels': ['surprise', 'joy', 'love', 'sadness', 'fear', 'anger'],\n",
              " 'scores': [0.66361004114151,\n",
              "  0.1976112276315689,\n",
              "  0.04634414240717888,\n",
              "  0.03801531344652176,\n",
              "  0.03516925126314163,\n",
              "  0.01925000175833702],\n",
              " 'sequence': 'i didnt feel humiliated'}"
            ]
          },
          "metadata": {
            "tags": []
          },
          "execution_count": 63
        }
      ]
    },
    {
      "cell_type": "code",
      "metadata": {
        "id": "eE1G6G43yCBu",
        "colab": {
          "base_uri": "https://localhost:8080/",
          "height": 155
        },
        "outputId": "796befa0-5eee-4b7e-a2a5-67203e74acb2"
      },
      "source": [
        "candidate_labels = [\"anger\", \"fear\", \"joy\", \"love\", \"sadness\", \"surprise\"]\n",
        "text = \"i am feeling grouchy\"\n",
        "classifier(text, candidate_labels)\n",
        "#anger"
      ],
      "execution_count": null,
      "outputs": [
        {
          "output_type": "execute_result",
          "data": {
            "text/plain": [
              "{'labels': ['anger', 'surprise', 'sadness', 'fear', 'joy', 'love'],\n",
              " 'scores': [0.7041721940040588,\n",
              "  0.11884286999702454,\n",
              "  0.11590170115232468,\n",
              "  0.04772496595978737,\n",
              "  0.009454275481402874,\n",
              "  0.003903944045305252],\n",
              " 'sequence': 'i am feeling grouchy'}"
            ]
          },
          "metadata": {
            "tags": []
          },
          "execution_count": 64
        }
      ]
    },
    {
      "cell_type": "markdown",
      "metadata": {
        "id": "2QFVM3Ea-KKS"
      },
      "source": [
        "It's amazing how zero-shot text classification performs on these examples from IMDB, AG_News, and emotion datasets. However, it is a mystery that how it works in the real life. To evaluate this, we will use datasets library and evaluate on test part of these datasets.\n",
        "\n",
        "## Evaluation"
      ]
    },
    {
      "cell_type": "code",
      "metadata": {
        "id": "ra2nafdy-HRY"
      },
      "source": [
        "from datasets import load_dataset, load_metric\n",
        "import numpy as np\n",
        "import math\n",
        "from sklearn.metrics import classification_report"
      ],
      "execution_count": null,
      "outputs": []
    },
    {
      "cell_type": "markdown",
      "metadata": {
        "id": "zKGh-eigyPej"
      },
      "source": [
        "##### **IMDB: Sentiment Analysis**"
      ]
    },
    {
      "cell_type": "code",
      "metadata": {
        "id": "PaBID1eX-l2Z"
      },
      "source": [
        "dataset = load_dataset('imdb')"
      ],
      "execution_count": null,
      "outputs": []
    },
    {
      "cell_type": "code",
      "metadata": {
        "id": "Vz9UihyKAHp8",
        "colab": {
          "base_uri": "https://localhost:8080/",
          "height": 55
        },
        "outputId": "775ecc44-857b-4842-badf-1403d86e761f"
      },
      "source": [
        "print(dataset[\"train\"][0])"
      ],
      "execution_count": null,
      "outputs": [
        {
          "output_type": "stream",
          "text": [
            "{'label': 1, 'text': 'Bromwell High is a cartoon comedy. It ran at the same time as some other programs about school life, such as \"Teachers\". My 35 years in the teaching profession lead me to believe that Bromwell High\\'s satire is much closer to reality than is \"Teachers\". The scramble to survive financially, the insightful students who can see right through their pathetic teachers\\' pomp, the pettiness of the whole situation, all remind me of the schools I knew and their students. When I saw the episode in which a student repeatedly tried to burn down the school, I immediately recalled ......... at .......... High. A classic line: INSPECTOR: I\\'m here to sack one of your teachers. STUDENT: Welcome to Bromwell High. I expect that many adults of my age think that Bromwell High is far fetched. What a pity that it isn\\'t!'}\n"
          ],
          "name": "stdout"
        }
      ]
    },
    {
      "cell_type": "code",
      "metadata": {
        "id": "diHsUUgwAJ8U",
        "colab": {
          "base_uri": "https://localhost:8080/",
          "height": 66,
          "referenced_widgets": [
            "1803397f267e4de0b180bc04bc1599eb",
            "feda2e7736fe4f0b91747bcbf149092d",
            "bd6e9bec34b94c539263662f614018eb",
            "db713dfc62c04a46b32d5ac28d052169",
            "21f787a57ff049deb39f95ed3700134d",
            "2c7571fb1711479cb692e3dd219f2612",
            "826607c5913b4ae2a487d22987024a5e",
            "209d05320ec647c29807193fb5646c5a"
          ]
        },
        "outputId": "d3a7bc3f-ea14-462a-d82d-8a75f2fc81ff"
      },
      "source": [
        "candidate_labels = [\"positive\", \"negative\"]\n",
        "predictions = []\n",
        "for offset in tqdm(range(math.ceil(len(dataset[\"test\"])/16))):\n",
        "    preds = classifier([dataset[\"test\"][16*offset+i][\"text\"] for i in range(16) if 16*offset+i<len(dataset[\"test\"])], candidate_labels)\n",
        "    pred_labels = [pred[\"labels\"][np.argmax(pred[\"scores\"])] for pred in preds]\n",
        "    predictions.extend([0 if pred_label==\"negative\" else 1 for pred_label in pred_labels])"
      ],
      "execution_count": null,
      "outputs": [
        {
          "output_type": "display_data",
          "data": {
            "application/vnd.jupyter.widget-view+json": {
              "model_id": "1803397f267e4de0b180bc04bc1599eb",
              "version_minor": 0,
              "version_major": 2
            },
            "text/plain": [
              "HBox(children=(FloatProgress(value=0.0, max=1563.0), HTML(value='')))"
            ]
          },
          "metadata": {
            "tags": []
          }
        },
        {
          "output_type": "stream",
          "text": [
            "\n"
          ],
          "name": "stdout"
        }
      ]
    },
    {
      "cell_type": "code",
      "metadata": {
        "id": "CTq_U5hrlu-Y",
        "colab": {
          "base_uri": "https://localhost:8080/",
          "height": 173
        },
        "outputId": "1b81fec1-67cb-4567-d015-a6ea7ee146bf"
      },
      "source": [
        "print(classification_report([x[\"label\"] for x in dataset[\"test\"]], predictions))"
      ],
      "execution_count": null,
      "outputs": [
        {
          "output_type": "stream",
          "text": [
            "              precision    recall  f1-score   support\n",
            "\n",
            "           0       0.85      0.93      0.89     12500\n",
            "           1       0.92      0.84      0.88     12500\n",
            "\n",
            "    accuracy                           0.88     25000\n",
            "   macro avg       0.89      0.88      0.88     25000\n",
            "weighted avg       0.89      0.88      0.88     25000\n",
            "\n"
          ],
          "name": "stdout"
        }
      ]
    },
    {
      "cell_type": "markdown",
      "metadata": {
        "id": "ntzRV8-4yZDN"
      },
      "source": [
        "##### **AG_News: News Categorization**"
      ]
    },
    {
      "cell_type": "code",
      "metadata": {
        "id": "XHGgdx6GOLYX"
      },
      "source": [
        "dataset = load_dataset('ag_news')"
      ],
      "execution_count": null,
      "outputs": []
    },
    {
      "cell_type": "code",
      "metadata": {
        "id": "B1MUdA_dnTot",
        "colab": {
          "base_uri": "https://localhost:8080/",
          "height": 66,
          "referenced_widgets": [
            "5c2414be498c4f0e901fcf7c0d6a1bfe",
            "80d37a9b601c49749170e17b701d7629",
            "f873197308434ea99d84ce42f48ae508",
            "e1c7c9e586b4458084d0ba31a9e3715d",
            "652c7ced84de46f08c1540effe47f7ce",
            "a5b6aedd10c7474f9d03f3622bf2c43a",
            "e2f2a36eec924205bfcae980628f5307",
            "896cbab6c6934033ac59d1c25cd57e2a"
          ]
        },
        "outputId": "c4f9193e-7c38-43ef-9b74-3fa8e4418287"
      },
      "source": [
        "candidate_labels = [\"world\", \"sports\", \"business\", \"sci/tech\"]\n",
        "predictions = []\n",
        "for offset in tqdm(range(math.ceil(len(dataset[\"test\"])/16))):\n",
        "    preds = classifier([dataset[\"test\"][16*offset+i][\"text\"] for i in range(16) if 16*offset+i<len(dataset[\"test\"])], candidate_labels)\n",
        "    pred_labels = [pred[\"labels\"][np.argmax(pred[\"scores\"])] for pred in preds]\n",
        "    predictions.extend([candidate_labels.index(pred_label) for pred_label in pred_labels])"
      ],
      "execution_count": null,
      "outputs": [
        {
          "output_type": "display_data",
          "data": {
            "application/vnd.jupyter.widget-view+json": {
              "model_id": "5c2414be498c4f0e901fcf7c0d6a1bfe",
              "version_minor": 0,
              "version_major": 2
            },
            "text/plain": [
              "HBox(children=(FloatProgress(value=0.0, max=475.0), HTML(value='')))"
            ]
          },
          "metadata": {
            "tags": []
          }
        },
        {
          "output_type": "stream",
          "text": [
            "\n"
          ],
          "name": "stdout"
        }
      ]
    },
    {
      "cell_type": "code",
      "metadata": {
        "id": "TGl-nRjAna2_",
        "colab": {
          "base_uri": "https://localhost:8080/",
          "height": 207
        },
        "outputId": "9e10115b-acd4-41a2-bd28-47bb00354650"
      },
      "source": [
        "print(classification_report([x[\"label\"] for x in dataset[\"test\"]], predictions))"
      ],
      "execution_count": null,
      "outputs": [
        {
          "output_type": "stream",
          "text": [
            "              precision    recall  f1-score   support\n",
            "\n",
            "           0       0.54      0.82      0.65      1900\n",
            "           1       0.94      0.86      0.90      1900\n",
            "           2       0.53      0.69      0.60      1900\n",
            "           3       0.76      0.20      0.32      1900\n",
            "\n",
            "    accuracy                           0.64      7600\n",
            "   macro avg       0.69      0.64      0.62      7600\n",
            "weighted avg       0.69      0.64      0.62      7600\n",
            "\n"
          ],
          "name": "stdout"
        }
      ]
    },
    {
      "cell_type": "markdown",
      "metadata": {
        "id": "ZjJs97RTydgA"
      },
      "source": [
        "##### **Emotion: Emotion Classification**"
      ]
    },
    {
      "cell_type": "code",
      "metadata": {
        "id": "hmJ5qnrYtBzR"
      },
      "source": [
        "dataset = load_dataset('emotion')"
      ],
      "execution_count": null,
      "outputs": []
    },
    {
      "cell_type": "code",
      "metadata": {
        "id": "WPKs6oq0to09",
        "colab": {
          "base_uri": "https://localhost:8080/",
          "height": 66,
          "referenced_widgets": [
            "ac4ea117153642c2b3d4d7d6fd4eb8e9",
            "0373868ddccd4274ab7903afd08e4952",
            "2185517d1ce64020abf22caf6c0cada4",
            "5f6e10e3edba41799e7f0478975eee32",
            "e161af184fd94e5480a15435a5c649f8",
            "ef2aa61006184fd781a29020d1cd61f3",
            "82d21641b17845b09898569d777eedb2",
            "292b10487067415db2484f907a1b0e7b"
          ]
        },
        "outputId": "b65a4de2-9963-4810-d537-b069a72de690"
      },
      "source": [
        "candidate_labels = [\"anger\", \"fear\", \"joy\", \"love\", \"sadness\", \"surprise\"]\n",
        "predictions = []\n",
        "for offset in tqdm(range(math.ceil(len(dataset[\"test\"])/16))):\n",
        "    preds = classifier([dataset[\"test\"][16*offset+i][\"text\"] for i in range(16) if 16*offset+i<len(dataset[\"test\"])], candidate_labels)\n",
        "    pred_labels = [pred[\"labels\"][np.argmax(pred[\"scores\"])] for pred in preds]\n",
        "    predictions.extend(pred_labels)"
      ],
      "execution_count": null,
      "outputs": [
        {
          "output_type": "display_data",
          "data": {
            "application/vnd.jupyter.widget-view+json": {
              "model_id": "ac4ea117153642c2b3d4d7d6fd4eb8e9",
              "version_minor": 0,
              "version_major": 2
            },
            "text/plain": [
              "HBox(children=(FloatProgress(value=0.0, max=125.0), HTML(value='')))"
            ]
          },
          "metadata": {
            "tags": []
          }
        },
        {
          "output_type": "stream",
          "text": [
            "\n"
          ],
          "name": "stdout"
        }
      ]
    },
    {
      "cell_type": "code",
      "metadata": {
        "id": "9_Bl3K8Zt3jP",
        "colab": {
          "base_uri": "https://localhost:8080/",
          "height": 242
        },
        "outputId": "0aecd01a-6741-415b-a5e8-06b970f87317"
      },
      "source": [
        "print(classification_report([x[\"label\"] for x in dataset[\"test\"]], predictions))"
      ],
      "execution_count": null,
      "outputs": [
        {
          "output_type": "stream",
          "text": [
            "              precision    recall  f1-score   support\n",
            "\n",
            "       anger       0.71      0.35      0.47       275\n",
            "        fear       0.55      0.36      0.43       224\n",
            "         joy       0.81      0.35      0.49       695\n",
            "        love       0.37      0.21      0.27       159\n",
            "     sadness       0.73      0.41      0.53       581\n",
            "    surprise       0.06      0.86      0.11        66\n",
            "\n",
            "    accuracy                           0.38      2000\n",
            "   macro avg       0.54      0.43      0.38      2000\n",
            "weighted avg       0.69      0.38      0.46      2000\n",
            "\n"
          ],
          "name": "stdout"
        }
      ]
    },
    {
      "cell_type": "markdown",
      "metadata": {
        "id": "ZJ4-V4wBpK0B"
      },
      "source": [
        "We can see that it really works!\n",
        "\n",
        "It performs 0.88 F1-score for sentiment analysis.\n",
        "\n",
        "For news categorization, the F1-score is 0.62. The worse category is sci/tech and it may be improved with detailed explanation of labels.\n",
        "\n",
        "However, the performance in emotion dataset is rather poor. It might be due to similarity between classes. It is a very hard task to make distinction between joy, love, and surprise without any prior data."
      ]
    },
    {
      "cell_type": "code",
      "metadata": {
        "id": "KasKR7nwtAO2"
      },
      "source": [
        ""
      ],
      "execution_count": null,
      "outputs": []
    }
  ]
}